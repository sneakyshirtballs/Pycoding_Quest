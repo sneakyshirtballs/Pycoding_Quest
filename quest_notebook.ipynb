{
 "cells": [
  {
   "cell_type": "code",
   "execution_count": 2,
   "metadata": {},
   "outputs": [
    {
     "data": {
      "text/html": [
       "<style>\n",
       "    body {\n",
       "        --vscode-font-family: \"Agave Nerd Font\"\n",
       "    }\n",
       "</style>\n"
      ],
      "text/plain": [
       "<IPython.core.display.HTML object>"
      ]
     },
     "metadata": {},
     "output_type": "display_data"
    }
   ],
   "source": [
    "%%HTML\n",
    "<style>\n",
    "# To Change Font To Agave Nerd Font In Vscode (Temporary Solution)\n",
    "    body {\n",
    "        --vscode-font-family: \"Agave Nerd Font\"\n",
    "    }\n",
    "</style>"
   ]
  },
  {
   "cell_type": "markdown",
   "metadata": {},
   "source": [
    "Problem 01: Print the 10 first square number.\n",
    "\n",
    "**Problem Statement**: Print the 10 first square number, one per line.\n",
    "Start at 0, so the first square number is 02, followed by 12, 22, and so on up to 92.\n",
    "\n",
    "Approach\n",
    "1. Initialize a counter to keep track of the numbers.\n",
    "2. Use a loop to calculate the square of each number from 0 to 9.\n",
    "3. Print each square number on a separate line."
   ]
  },
  {
   "cell_type": "code",
   "execution_count": null,
   "metadata": {},
   "outputs": [],
   "source": [
    "def print_square_numbers(limit):\n",
    "    for i in range(0, limit):\n",
    "        print(i ** 2)\n",
    "print_square_numbers(10)"
   ]
  }
 ],
 "metadata": {
  "kernelspec": {
   "display_name": "env",
   "language": "python",
   "name": "python3"
  },
  "language_info": {
   "codemirror_mode": {
    "name": "ipython",
    "version": 3
   },
   "file_extension": ".py",
   "mimetype": "text/x-python",
   "name": "python",
   "nbconvert_exporter": "python",
   "pygments_lexer": "ipython3",
   "version": "3.11.2"
  },
  "orig_nbformat": 4
 },
 "nbformat": 4,
 "nbformat_minor": 2
}
