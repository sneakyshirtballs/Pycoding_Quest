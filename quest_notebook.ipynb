{
 "cells": [
  {
   "cell_type": "markdown",
   "metadata": {},
   "source": [
    "## Problem 01: Print the 10 first square number.\n",
    "\n",
    "**Problem Statement**: Print the 10 first square number, one per line.\n",
    "Start at 0, so the first square number is 02, followed by 12, 22, and so on up to 92.\n",
    "\n",
    "## Approach\n",
    "1. Initialize a counter to keep track of the numbers.\n",
    "2. Use a loop to calculate the square of each number from 0 to 9.\n",
    "3. Print each square number on a separate line."
   ]
  },
  {
   "cell_type": "code",
   "execution_count": null,
   "metadata": {},
   "outputs": [],
   "source": [
    "def print_square_numbers(limit):\n",
    "    for i in range(0, limit):\n",
    "        print(i ** 2)\n",
    "print_square_numbers(10)"
   ]
  }
 ],
 "metadata": {
  "language_info": {
   "name": "python"
  },
  "orig_nbformat": 4
 },
 "nbformat": 4,
 "nbformat_minor": 2
}
