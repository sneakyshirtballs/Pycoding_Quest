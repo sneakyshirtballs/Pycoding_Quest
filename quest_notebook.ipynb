{
 "cells": [
  {
   "cell_type": "code",
   "execution_count": 2,
   "metadata": {},
   "outputs": [
    {
     "data": {
      "text/html": [
       "<style>\n",
       "    body {\n",
       "        --vscode-font-family: \"Agave Nerd Font\"\n",
       "    }\n",
       "</style>\n"
      ],
      "text/plain": [
       "<IPython.core.display.HTML object>"
      ]
     },
     "metadata": {},
     "output_type": "display_data"
    }
   ],
   "source": [
    "%%HTML\n",
    "<style>\n",
    "# To Change Font To Agave Nerd Font In Vscode (Temporary Solution)\n",
    "    body {\n",
    "        --vscode-font-family: \"Agave Nerd Font\"\n",
    "    }\n",
    "</style>"
   ]
  },
  {
   "cell_type": "markdown",
   "metadata": {},
   "source": [
    "Problem 01: Print the 10 first square number.\n",
    "\n",
    "**Problem Statement**: Print the 10 first square number, one per line.\n",
    "Start at 0, so the first square number is 02, followed by 12, 22, and so on up to 92.\n",
    "\n",
    "Approach\n",
    "1. Initialize a counter to keep track of the numbers.\n",
    "2. Use a loop to calculate the square of each number from 0 to 9.\n",
    "3. Print each square number on a separate line."
   ]
  },
  {
   "cell_type": "code",
   "execution_count": 1,
   "metadata": {},
   "outputs": [
    {
     "name": "stdout",
     "output_type": "stream",
     "text": [
      "0\n",
      "1\n",
      "4\n",
      "9\n",
      "16\n",
      "25\n",
      "36\n",
      "49\n",
      "64\n",
      "81\n"
     ]
    }
   ],
   "source": [
    "def print_square_numbers(limit):\n",
    "    for i in range(0, limit):\n",
    "        print(i ** 2)\n",
    "print_square_numbers(10)"
   ]
  },
  {
   "cell_type": "markdown",
   "metadata": {},
   "source": [
    "Problem 02: Calculate the Factorial\n",
    "\n",
    "**Problem Statement**: Write a Python program to calculate the factorial of a given non-negative integer n. The factorial of a non-negative integer n is the product of all positive integers less than or equal to n.\n",
    "\n",
    "Approach:\n",
    "1. Initialize a variable factorial to 1.\n",
    "2. Use a loop to iterate from 1 to n.\n",
    "3. In each iteration, multiply factorial by the current value of the loop variable.\n",
    "4. After the loop, return the value of factorial as the factorial of n."
   ]
  },
  {
   "cell_type": "code",
   "execution_count": 3,
   "metadata": {},
   "outputs": [
    {
     "name": "stdout",
     "output_type": "stream",
     "text": [
      "The factorial of 5 is 120\n"
     ]
    }
   ],
   "source": [
    "def calculate_factorial(n):\n",
    "    # Initialize factorial to 1\n",
    "    factorial = 1\n",
    "\n",
    "    # Check if n is a non-negative integer\n",
    "    if n < 0:\n",
    "        return \"Factorial is not defined for negative numbers\"\n",
    "    elif n == 0:\n",
    "        return 1  # 0! is defined as 1 by convention\n",
    "\n",
    "    # Calculate factorial using a loop\n",
    "    for i in range(1, n + 1):\n",
    "        factorial *= i\n",
    "\n",
    "    return factorial\n",
    "\n",
    "# Test the function with an example\n",
    "n = 5\n",
    "result = calculate_factorial(n)\n",
    "print(f\"The factorial of {n} is {result}\")"
   ]
  },
  {
   "cell_type": "markdown",
   "metadata": {},
   "source": [
    "Problem 03: Check for Prime Number\n",
    "\n",
    "**Problem Statement**: Write a Python function that checks whether a given positive integer n is a prime number or not. A prime number is a positive integer greater than 1 that has no positive integer divisors other than 1 and itself.\n",
    "\n",
    "Your task is to write a Python function that takes an integer n as input and returns True if n is prime and False otherwise.\n",
    "\n",
    "Approach:\n",
    "1. Check if n is less than or equal to 1. If it is, return False because prime numbers are greater than 1.\n",
    "2. Use a loop to iterate from 2 to the square root of n (you can use the math.sqrt() function to calculate the square root).\n",
    "3. In each iteration, check if n is divisible evenly by the current loop variable. If it is, return False because n is not prime.\n",
    "4. If the loop completes without finding a divisor for n, return True because n is prime."
   ]
  },
  {
   "cell_type": "code",
   "execution_count": 7,
   "metadata": {},
   "outputs": [
    {
     "name": "stdout",
     "output_type": "stream",
     "text": [
      "17 is a prime number.\n"
     ]
    }
   ],
   "source": [
    "import math\n",
    "\n",
    "def is_prime(n):\n",
    "    # Check if n is less than or equal to 1\n",
    "    if n <= 1:\n",
    "        return False\n",
    "    \n",
    "    # Check for divisibility from 2 to the square root of n\n",
    "    for i in range(2, int(math.sqrt(n)) + 1):\n",
    "        if n % i == 0:\n",
    "            return False\n",
    "    \n",
    "    return True\n",
    "\n",
    "# Test the function with an example\n",
    "n = 17  # You can replace this with any positive integer\n",
    "if is_prime(n):\n",
    "    print(f\"{n} is a prime number.\")\n",
    "else:\n",
    "    print(f\"{n} is not a prime number.\")"
   ]
  }
 ],
 "metadata": {
  "kernelspec": {
   "display_name": "env",
   "language": "python",
   "name": "python3"
  },
  "language_info": {
   "codemirror_mode": {
    "name": "ipython",
    "version": 3
   },
   "file_extension": ".py",
   "mimetype": "text/x-python",
   "name": "python",
   "nbconvert_exporter": "python",
   "pygments_lexer": "ipython3",
   "version": "3.11.2"
  },
  "orig_nbformat": 4
 },
 "nbformat": 4,
 "nbformat_minor": 2
}
